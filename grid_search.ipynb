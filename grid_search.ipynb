{
 "cells": [
  {
   "cell_type": "markdown",
   "metadata": {},
   "source": [
    "# Notebook for creation of Hyperparameters"
   ]
  },
  {
   "cell_type": "code",
   "execution_count": 6,
   "metadata": {},
   "outputs": [],
   "source": [
    "import pickle\n",
    "import itertools\n",
    "import numpy as np\n",
    "import pandas as pd \n",
    "from tqdm import tqdm\n",
    "\n",
    "\n",
    "def save_pickle(data, filename):\n",
    "    with open(filename, 'wb') as handle:\n",
    "        pickle.dump(data, handle, protocol=pickle.HIGHEST_PROTOCOL)\n",
    "\n",
    "def load_pickle(filename):\n",
    "    with open(filename, 'rb') as handle:\n",
    "        d = pickle.load(handle)\n",
    "    return d"
   ]
  },
  {
   "cell_type": "markdown",
   "metadata": {},
   "source": [
    "HYPERPARAMS PER GRID SEARCH PRF ECLIPSE: alpha, beta, k+, k-"
   ]
  },
  {
   "cell_type": "code",
   "execution_count": null,
   "metadata": {},
   "outputs": [],
   "source": [
    "options_kpos = np.array([1, 2, 3, 4, 5, 6, 8, 10])  \n",
    "option_kneg  = np.array([1, 2, 4, 6, 8, 10, 12, 14])   \n",
    "option_alpha = np.array([.1, .2, .3, .4, .5, .6, .7, .8, .9, 1.])\n",
    "option_beta  = np.array([.1, .2, .3, .4, .5, .6, .7, .8, .9, 1.])\n",
    "\n",
    "# Create all possible combinations\n",
    "grid = list(itertools.product(options_kpos, option_kneg, option_alpha, option_beta))\n",
    "\n",
    "\n",
    "# Create a list of dictionaries with a defined structure\n",
    "d = []\n",
    "for params in grid:\n",
    "    ## As condition, we reduce the n. of configuration by setting alpha!=beta except alpha==beta==1\n",
    "    ## since if alpha==beta==K then all the case can be reconduce to the base one.\n",
    "    if params[2]!=params[3] or (params[2] == 1 and params[3] == 1):\n",
    "        d.append({\n",
    "            'kpos': params[0],\n",
    "            'kneg': params[1],\n",
    "            'alpha': params[2],\n",
    "            'beta': params[3],\n",
    "        })\n",
    "\n",
    "df = pd.DataFrame(d)"
   ]
  },
  {
   "cell_type": "code",
   "execution_count": null,
   "metadata": {},
   "outputs": [],
   "source": [
    "df.to_csv('data/performance/configurations/PRF_rq1_V2.csv', index=False)"
   ]
  },
  {
   "cell_type": "code",
   "execution_count": null,
   "metadata": {},
   "outputs": [
    {
     "name": "stdout",
     "output_type": "stream",
     "text": [
      "Number of combinations: 1344\n",
      "Number of combinations: 4480\n",
      "Number of combinations: 5824\n"
     ]
    }
   ],
   "source": [
    "df = pd.read_csv('data/performance/configurations/PRF_rq1_V2.csv').to_dict('index')\n",
    "print(f\"Number of combinations: {len(df)}\")"
   ]
  },
  {
   "cell_type": "code",
   "execution_count": 15,
   "metadata": {},
   "outputs": [
    {
     "name": "stderr",
     "output_type": "stream",
     "text": [
      "100%|██████████| 1344/1344 [00:00<00:00, 1145761.09it/s]\n"
     ]
    },
    {
     "data": {
      "text/plain": [
       "(1343, {'kpos': 10, 'kneg': 14, 'alpha': 1.0, 'beta': 1.0})"
      ]
     },
     "execution_count": 15,
     "metadata": {},
     "output_type": "execute_result"
    }
   ],
   "source": [
    "for k, hyperparams in tqdm(df.items()): \n",
    "    pass\n",
    "\n",
    "k, hyperparams"
   ]
  },
  {
   "cell_type": "markdown",
   "metadata": {},
   "source": [
    "HYPERPARAMS PER GRID SEARCH LLM ECLIPSE: alpha, beta, k-"
   ]
  },
  {
   "cell_type": "code",
   "execution_count": 16,
   "metadata": {},
   "outputs": [],
   "source": [
    "option_kneg  = np.array([1, 2, 4, 6, 8, 10, 12, 14])   \n",
    "option_alpha = np.array([.1, .2, .3, .4, .5, .6, .7, .8, .9, 1.])\n",
    "option_beta  = np.array([.1, .2, .3, .4, .5, .6, .7, .8, .9, 1.])\n",
    "\n",
    "# Create all possible combinations\n",
    "grid = list(itertools.product(option_kneg, option_alpha, option_beta))\n",
    "\n",
    "# Create a list of dictionaries with a defined structure\n",
    "d = []\n",
    "for params in grid:\n",
    "    ## As condition, we reduce the n. of configuration by setting alpha!=beta except alpha==beta==1\n",
    "    ## since if alpha==beta==K then all the case can be reconduce to the base one.\n",
    "    if params[1]!=params[2] or (params[1] == 1 and params[2] == 1):\n",
    "        d.append({\n",
    "            'kneg': params[0],\n",
    "            'alpha': params[1],\n",
    "            'beta': params[2],\n",
    "        })\n",
    "\n",
    "df = pd.DataFrame(d)\n",
    "#df.to_csv('data/performance/configurations/LLM_rq1_V0.csv', index=False)"
   ]
  },
  {
   "cell_type": "code",
   "execution_count": 27,
   "metadata": {},
   "outputs": [
    {
     "name": "stdout",
     "output_type": "stream",
     "text": [
      "Number of combinations: 728\n"
     ]
    }
   ],
   "source": [
    "df = pd.read_csv('data/performance/configurations/LLM_rq1_V0.csv').to_dict('index')\n",
    "print(f\"Number of combinations: {len(df)}\")"
   ]
  },
  {
   "cell_type": "code",
   "execution_count": 30,
   "metadata": {},
   "outputs": [
    {
     "name": "stderr",
     "output_type": "stream",
     "text": [
      "  0%|          | 0/728 [00:00<?, ?it/s]\n"
     ]
    },
    {
     "data": {
      "text/plain": [
       "(0, {'kneg': 1, 'alpha': 0.1, 'beta': 0.2})"
      ]
     },
     "execution_count": 30,
     "metadata": {},
     "output_type": "execute_result"
    }
   ],
   "source": [
    "for k, hyperparams in tqdm(df.items()): \n",
    "    break\n",
    "\n",
    "k, hyperparams"
   ]
  },
  {
   "cell_type": "markdown",
   "metadata": {},
   "source": [
    "HYPERPARAMS PER GRID SEARCH NEG ACTIVE FEEDBACK"
   ]
  },
  {
   "cell_type": "code",
   "execution_count": 3,
   "metadata": {},
   "outputs": [],
   "source": [
    "option_alpha = np.array([.1, .2, .3, .4, .5, .6, .7, .8, .9, 1.])\n",
    "option_beta  = np.array([.1, .2, .3, .4, .5, .6, .7, .8, .9, 1.])\n",
    "\n",
    "# Create all possible combinations\n",
    "grid = list(itertools.product(option_alpha, option_beta))\n",
    "\n",
    "# Create a list of dictionaries with a defined structure\n",
    "d = []\n",
    "for params in grid:\n",
    "    ## As condition, we reduce the n. of configuration by setting alpha!=beta except alpha==beta==1\n",
    "    ## since if alpha==beta==K then all the case can be reconduce to the base one.\n",
    "    if params[0]!=params[1] or (params[0] == 1 and params[1] == 1):\n",
    "        d.append({\n",
    "            'alpha': params[0],\n",
    "            'beta': params[1],\n",
    "        })\n",
    "\n",
    "df = pd.DataFrame(d)\n",
    "df.to_csv('data/performance/configurations/negActive_v0.csv', index=False)"
   ]
  },
  {
   "cell_type": "code",
   "execution_count": 4,
   "metadata": {},
   "outputs": [
    {
     "name": "stdout",
     "output_type": "stream",
     "text": [
      "Number of combinations: 91\n"
     ]
    }
   ],
   "source": [
    "df = pd.read_csv('data/performance/configurations/negActive_v0.csv').to_dict('index')\n",
    "print(f\"Number of combinations: {len(df)}\")"
   ]
  },
  {
   "cell_type": "code",
   "execution_count": 5,
   "metadata": {},
   "outputs": [
    {
     "name": "stderr",
     "output_type": "stream",
     "text": [
      "  0%|          | 0/91 [00:00<?, ?it/s]\n"
     ]
    },
    {
     "data": {
      "text/plain": [
       "(0, {'alpha': 0.1, 'beta': 0.2})"
      ]
     },
     "execution_count": 5,
     "metadata": {},
     "output_type": "execute_result"
    }
   ],
   "source": [
    "for k, hyperparams in tqdm(df.items()): \n",
    "    break\n",
    "\n",
    "k, hyperparams"
   ]
  }
 ],
 "metadata": {
  "kernelspec": {
   "display_name": "Python 3",
   "language": "python",
   "name": "python3"
  },
  "language_info": {
   "codemirror_mode": {
    "name": "ipython",
    "version": 3
   },
   "file_extension": ".py",
   "mimetype": "text/x-python",
   "name": "python",
   "nbconvert_exporter": "python",
   "pygments_lexer": "ipython3",
   "version": "3.10.14"
  }
 },
 "nbformat": 4,
 "nbformat_minor": 2
}
